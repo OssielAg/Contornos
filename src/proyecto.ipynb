{
 "cells": [
  {
   "cell_type": "code",
   "execution_count": 31,
   "id": "28f68d93",
   "metadata": {},
   "outputs": [],
   "source": [
    "import numpy as np\n",
    "from numpy import array\n",
    "import os\n",
    "import re\n",
    "import matplotlib.pyplot as plt\n",
    "%matplotlib inline\n",
    "from sklearn.model_selection import train_test_split\n",
    "from sklearn.metrics import classification_report\n",
    "import keras\n",
    "#from keras.utils import to_categorical\n",
    "from keras.models import Sequential,Input,Model\n",
    "from keras.layers import Dense, Dropout, Flatten\n",
    "from keras.layers import Conv2D, MaxPooling2D\n",
    "#from keras.layers.normalization import BatchNormalization\n",
    "from keras.layers.advanced_activations import LeakyReLU"
   ]
  },
  {
   "cell_type": "code",
   "execution_count": 32,
   "id": "b79d30b4",
   "metadata": {},
   "outputs": [
    {
     "name": "stdout",
     "output_type": "stream",
     "text": [
      "leyendo imagenes de  C:\\Users\\PC\\OneDrive\\Documentos\\Proyectos CC\\Proyecto\\imagenes\\\n",
      "Leyendo...1\r",
      "Cargado: C:\\Users\\PC\\OneDrive\\Documentos\\Proyectos CC\\Proyecto\\imagenes\\Contornos\n",
      "Leyendo...1\r",
      "Leyendo...2\r",
      "Leyendo...3\r",
      "Leyendo...4\r",
      "Leyendo...5\r",
      "Leyendo...6\r",
      "Leyendo...7\r",
      "Leyendo...8\r",
      "Leyendo...9\r",
      "Leyendo...10\r",
      "Leyendo...11\r",
      "Leyendo...12\r",
      "Leyendo...13\r",
      "Leyendo...14\r",
      "Leyendo...15\r",
      "Leyendo...16\r",
      "Leyendo...17\r",
      "Leyendo...18\r",
      "Leyendo...19\r",
      "Leyendo...20\r",
      "Leyendo...21\r",
      "Leyendo...22\r",
      "Leyendo...23\r",
      "Leyendo...24\r",
      "Leyendo...25\r",
      "Leyendo...26\r",
      "Leyendo...27\r",
      "Leyendo...28\r",
      "Leyendo...29\r",
      "Leyendo...30\r",
      "Leyendo...31\r",
      "Leyendo...32\r",
      "Leyendo...33\r",
      "Leyendo...34\r",
      "Leyendo...35\r",
      "Leyendo...36\r",
      "Leyendo...37\r",
      "Leyendo...38\r",
      "Leyendo...39\r",
      "Leyendo...40\r",
      "Cargado: C:\\Users\\PC\\OneDrive\\Documentos\\Proyectos CC\\Proyecto\\imagenes\\Originales\n",
      "Leyendo...1\r",
      "Leyendo...2\r",
      "Leyendo...3\r",
      "Leyendo...4\r",
      "Leyendo...5\r",
      "Leyendo...6\r",
      "Leyendo...7\r",
      "Leyendo...8\r",
      "Leyendo...9\r",
      "Leyendo...10\r",
      "Leyendo...11\r",
      "Leyendo...12\r",
      "Leyendo...13\r",
      "Leyendo...14\r",
      "Leyendo...15\r",
      "Leyendo...16\r",
      "Leyendo...17\r",
      "Leyendo...18\r",
      "Leyendo...19\r",
      "Leyendo...20\r",
      "Leyendo...21\r",
      "Leyendo...22\r",
      "Leyendo...23\r",
      "Leyendo...24\r",
      "Leyendo...25\r",
      "Leyendo...26\r",
      "Leyendo...27\r",
      "Leyendo...28\r",
      "Leyendo...29\r",
      "Leyendo...30\r",
      "Leyendo...31\r",
      "Leyendo...32\r",
      "Leyendo...33\r",
      "Leyendo...34\r",
      "Leyendo...35\r",
      "Leyendo...36\r",
      "Leyendo...37\r",
      "Leyendo...38\r",
      "Leyendo...39\r",
      "Imagenes en cada directorio [40, 40]\n",
      "suma Total de imagenes en subdirs: 80\n"
     ]
    }
   ],
   "source": [
    "dirname = os.path.join(os.getcwd(), 'imagenes')\n",
    "imgpath = dirname + os.sep \n",
    " \n",
    "images = []\n",
    "directories = []\n",
    "dircount = []\n",
    "prevRoot=''\n",
    "cant=0\n",
    " \n",
    "print(\"leyendo imagenes de \",imgpath)\n",
    " \n",
    "for root, dirnames, filenames in os.walk(imgpath):\n",
    "    for filename in filenames:\n",
    "        if re.search(\"\\.(jpg|jpeg|png|bmp|tiff|pgm)$\", filename):\n",
    "            cant=cant+1\n",
    "            filepath = os.path.join(root, filename)\n",
    "            image = plt.imread(filepath)\n",
    "            images.append(image)\n",
    "            b = \"Leyendo...\" + str(cant)\n",
    "            print (b, end=\"\\r\")\n",
    "            if prevRoot !=root:\n",
    "                print(\"Cargado:\",root)\n",
    "                prevRoot=root\n",
    "                directories.append(root)\n",
    "                dircount.append(cant)\n",
    "                cant=0\n",
    "dircount.append(cant)\n",
    "if len(directories) != 2:\n",
    "    print(\"Solo deben cargarse 2 directorios, uno con las imagenes originales y otro con los resulados esperados\")\n",
    "else:\n",
    "    dircount = dircount[1:]\n",
    "    dircount[1] = dircount[1]+1\n",
    "    #print('Directorios leidos:',len(directories))\n",
    "    print(\"Imagenes en cada directorio\", dircount)\n",
    "    print('suma Total de imagenes en subdirs:',sum(dircount))"
   ]
  },
  {
   "cell_type": "code",
   "execution_count": 43,
   "id": "2a60c088",
   "metadata": {},
   "outputs": [
    {
     "name": "stdout",
     "output_type": "stream",
     "text": [
      "40 40\n"
     ]
    }
   ],
   "source": [
    "X , y = array([]) , array([])\n",
    "if(dircount[0]==dircount[1]):\n",
    "    nimag = dircount[0]\n",
    "    y, X = array(images[:nimag]), array(images[nimag:])\n",
    "    print(len(X), len(y))\n",
    "X, y = X/255, y/255\n",
    "train_X,test_X,train_Y,test_Y = train_test_split(X,y,test_size=0.25)"
   ]
  },
  {
   "cell_type": "code",
   "execution_count": 44,
   "id": "8dfeb1c1",
   "metadata": {},
   "outputs": [
    {
     "data": {
      "text/plain": [
       "30"
      ]
     },
     "execution_count": 44,
     "metadata": {},
     "output_type": "execute_result"
    }
   ],
   "source": [
    "len(train_X)"
   ]
  },
  {
   "cell_type": "code",
   "execution_count": 37,
   "id": "3cf3e76b",
   "metadata": {},
   "outputs": [
    {
     "data": {
      "text/plain": [
       "array([[0.6       , 0.58823529, 0.57254902, ..., 0.27058824, 0.25098039,\n",
       "        0.23529412],\n",
       "       [0.58823529, 0.57254902, 0.52941176, ..., 0.61960784, 0.54117647,\n",
       "        0.55294118],\n",
       "       [0.57254902, 0.57254902, 0.52941176, ..., 0.64705882, 0.55294118,\n",
       "        0.52941176],\n",
       "       ...,\n",
       "       [0.54117647, 0.55294118, 0.64705882, ..., 0.38431373, 0.3372549 ,\n",
       "        0.4627451 ],\n",
       "       [0.54117647, 0.52941176, 0.6       , ..., 0.34117647, 0.37254902,\n",
       "        0.45098039],\n",
       "       [0.54117647, 0.50196078, 0.52941176, ..., 0.41960784, 0.4       ,\n",
       "        0.42745098]])"
      ]
     },
     "execution_count": 37,
     "metadata": {},
     "output_type": "execute_result"
    }
   ],
   "source": [
    "X[0]"
   ]
  },
  {
   "cell_type": "code",
   "execution_count": 38,
   "id": "63ce95ff",
   "metadata": {},
   "outputs": [
    {
     "data": {
      "text/plain": [
       "array([[1., 1., 1., ..., 1., 1., 1.],\n",
       "       [1., 1., 1., ..., 1., 1., 1.],\n",
       "       [1., 1., 1., ..., 1., 1., 1.],\n",
       "       ...,\n",
       "       [1., 1., 1., ..., 1., 1., 1.],\n",
       "       [1., 1., 1., ..., 1., 1., 1.],\n",
       "       [1., 1., 1., ..., 1., 1., 1.]])"
      ]
     },
     "execution_count": 38,
     "metadata": {},
     "output_type": "execute_result"
    }
   ],
   "source": [
    "y[0]"
   ]
  },
  {
   "cell_type": "code",
   "execution_count": null,
   "id": "cb783cfc",
   "metadata": {},
   "outputs": [],
   "source": []
  }
 ],
 "metadata": {
  "kernelspec": {
   "display_name": "Python 3 (ipykernel)",
   "language": "python",
   "name": "python3"
  },
  "language_info": {
   "codemirror_mode": {
    "name": "ipython",
    "version": 3
   },
   "file_extension": ".py",
   "mimetype": "text/x-python",
   "name": "python",
   "nbconvert_exporter": "python",
   "pygments_lexer": "ipython3",
   "version": "3.9.8"
  }
 },
 "nbformat": 4,
 "nbformat_minor": 5
}
