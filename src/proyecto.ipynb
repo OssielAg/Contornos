{
 "cells": [
  {
   "cell_type": "code",
   "execution_count": 1,
   "id": "28f68d93",
   "metadata": {},
   "outputs": [],
   "source": [
    "import numpy as np\n",
    "from numpy import array\n",
    "import os\n",
    "import re\n",
    "import matplotlib.pyplot as plt\n",
    "%matplotlib inline\n",
    "from sklearn.model_selection import train_test_split\n",
    "from sklearn.metrics import classification_report\n",
    "import keras\n",
    "#from keras.utils import to_categorical\n",
    "from keras.models import Sequential,Input,Model\n",
    "from keras.layers import Dense, Dropout, Flatten\n",
    "from keras.layers import Conv2D, MaxPooling2D\n",
    "#from keras.layers.normalization import BatchNormalization\n",
    "from keras.layers.advanced_activations import LeakyReLU"
   ]
  },
  {
   "cell_type": "markdown",
   "id": "3491e496",
   "metadata": {},
   "source": [
    "### Leemos las imagenes y las cargamos en un arreglo"
   ]
  },
  {
   "cell_type": "code",
   "execution_count": 7,
   "id": "b79d30b4",
   "metadata": {},
   "outputs": [
    {
     "name": "stdout",
     "output_type": "stream",
     "text": [
      "leyendo imagenes de  C:\\Users\\PC\\OneDrive\\Documentos\\Proyectos CC\\Proyecto\\Contornos\\data\\imagenes\\\n",
      "Leyendo...1\r",
      "Cargado: C:\\Users\\PC\\OneDrive\\Documentos\\Proyectos CC\\Proyecto\\Contornos\\data\\imagenes\\0-Originales\n",
      "Leyendo...1\r",
      "Leyendo...2\r",
      "Leyendo...3\r",
      "Leyendo...4\r",
      "Leyendo...5\r",
      "Leyendo...6\r",
      "Leyendo...7\r",
      "Leyendo...8\r",
      "Leyendo...9\r",
      "Leyendo...10\r",
      "Leyendo...11\r",
      "Leyendo...12\r",
      "Leyendo...13\r",
      "Leyendo...14\r",
      "Leyendo...15\r",
      "Leyendo...16\r",
      "Leyendo...17\r",
      "Leyendo...18\r",
      "Leyendo...19\r",
      "Leyendo...20\r",
      "Leyendo...21\r",
      "Leyendo...22\r",
      "Leyendo...23\r",
      "Leyendo...24\r",
      "Leyendo...25\r",
      "Leyendo...26\r",
      "Leyendo...27\r",
      "Leyendo...28\r",
      "Leyendo...29\r",
      "Leyendo...30\r",
      "Leyendo...31\r",
      "Leyendo...32\r",
      "Leyendo...33\r",
      "Leyendo...34\r",
      "Leyendo...35\r",
      "Leyendo...36\r",
      "Leyendo...37\r",
      "Leyendo...38\r",
      "Leyendo...39\r",
      "Leyendo...40\r",
      "Cargado: C:\\Users\\PC\\OneDrive\\Documentos\\Proyectos CC\\Proyecto\\Contornos\\data\\imagenes\\1-Contornos\n",
      "Leyendo...1\r",
      "Leyendo...2\r",
      "Leyendo...3\r",
      "Leyendo...4\r",
      "Leyendo...5\r",
      "Leyendo...6\r",
      "Leyendo...7\r",
      "Leyendo...8\r",
      "Leyendo...9\r",
      "Leyendo...10\r",
      "Leyendo...11\r",
      "Leyendo...12\r",
      "Leyendo...13\r",
      "Leyendo...14\r",
      "Leyendo...15\r",
      "Leyendo...16\r",
      "Leyendo...17\r",
      "Leyendo...18\r",
      "Leyendo...19\r",
      "Leyendo...20\r",
      "Leyendo...21\r",
      "Leyendo...22\r",
      "Leyendo...23\r",
      "Leyendo...24\r",
      "Leyendo...25\r",
      "Leyendo...26\r",
      "Leyendo...27\r",
      "Leyendo...28\r",
      "Leyendo...29\r",
      "Leyendo...30\r",
      "Leyendo...31\r",
      "Leyendo...32\r",
      "Leyendo...33\r",
      "Leyendo...34\r",
      "Leyendo...35\r",
      "Leyendo...36\r",
      "Leyendo...37\r",
      "Leyendo...38\r",
      "Leyendo...39\r",
      "Imagenes en cada directorio [40, 40]\n",
      "Total de imagenes: 80\n"
     ]
    }
   ],
   "source": [
    "# Obtenemos la dirección donde está nuestro dataset\n",
    "dire = os.getcwd()[:-3]\n",
    "dirname = os.path.join(dire, 'data\\\\imagenes')\n",
    "imgpath = dirname + os.sep\n",
    " \n",
    "images = []\n",
    "directories = []\n",
    "dircount = []\n",
    "prevRoot=''\n",
    "cant=0\n",
    "\n",
    "# Cargamos las imágenes\n",
    "print(\"leyendo imagenes de \",imgpath)\n",
    " \n",
    "for root, dirnames, filenames in os.walk(imgpath):\n",
    "    for filename in filenames:\n",
    "        if re.search(\"\\.(jpg|jpeg|png|bmp|tiff|pgm)$\", filename):\n",
    "            cant=cant+1\n",
    "            filepath = os.path.join(root, filename)\n",
    "            image = plt.imread(filepath)\n",
    "            images.append(image)\n",
    "            b = \"Leyendo...\" + str(cant)\n",
    "            print (b, end=\"\\r\")\n",
    "            if prevRoot !=root:\n",
    "                print(\"Cargado:\",root)\n",
    "                prevRoot=root\n",
    "                directories.append(root)\n",
    "                dircount.append(cant)\n",
    "                cant=0\n",
    "dircount.append(cant)\n",
    "\n",
    "# Muestra un mensaje si es que no se leyeron exactamente 2\n",
    "if len(directories) != 2:\n",
    "    print(\"Solo deben cargarse 2 directorios, uno con las imagenes originales y otro con los resulados esperados\")\n",
    "else:\n",
    "    dircount = dircount[1:]\n",
    "    dircount[1] = dircount[1]+1\n",
    "    print(\"Imagenes en cada directorio\", dircount)\n",
    "    print('Total de imagenes:',sum(dircount))"
   ]
  },
  {
   "cell_type": "markdown",
   "id": "0d0f3969",
   "metadata": {},
   "source": [
    "#### Separamos nuestras listas para entrenamiento y prueba"
   ]
  },
  {
   "cell_type": "code",
   "execution_count": 3,
   "id": "2a60c088",
   "metadata": {},
   "outputs": [
    {
     "name": "stdout",
     "output_type": "stream",
     "text": [
      "Nuestro dataset consta de 40 elementos\n",
      "Usaremos 30 elementos para el entrenamiento y 10 para probarlo\n"
     ]
    }
   ],
   "source": [
    "X , y = array([]) , array([])\n",
    "\n",
    "if(dircount[0]==dircount[1]):\n",
    "    nimag = dircount[0]\n",
    "    X, y = array(images[:nimag]), array(images[nimag:])\n",
    "    print(\"Nuestro dataset consta de {0} elementos\".format(len(X)))\n",
    "X, y = X/255, y/255\n",
    "train_X,test_X,train_Y,test_Y = train_test_split(X,y,test_size=0.25)\n",
    "print(\"Usaremos {0} elementos para el entrenamiento y {1} para probarlo\".format(len(train_X),len(test_X)))"
   ]
  },
  {
   "cell_type": "code",
   "execution_count": 13,
   "id": "8dfeb1c1",
   "metadata": {},
   "outputs": [
    {
     "ename": "NameError",
     "evalue": "name 'relu' is not defined",
     "output_type": "error",
     "traceback": [
      "\u001b[1;31m---------------------------------------------------------------------------\u001b[0m",
      "\u001b[1;31mNameError\u001b[0m                                 Traceback (most recent call last)",
      "\u001b[1;32m~\\AppData\\Local\\Temp/ipykernel_12764/2216167285.py\u001b[0m in \u001b[0;36m<module>\u001b[1;34m\u001b[0m\n\u001b[1;32m----> 1\u001b[1;33m \u001b[0mim\u001b[0m \u001b[1;33m=\u001b[0m \u001b[0mrelu\u001b[0m\u001b[1;33m(\u001b[0m\u001b[0mX\u001b[0m\u001b[1;33m[\u001b[0m\u001b[1;36m0\u001b[0m\u001b[1;33m]\u001b[0m\u001b[1;33m)\u001b[0m\u001b[1;33m\u001b[0m\u001b[1;33m\u001b[0m\u001b[0m\n\u001b[0m",
      "\u001b[1;31mNameError\u001b[0m: name 'relu' is not defined"
     ]
    }
   ],
   "source": [
    "def shapes(inshape = (512,512)):\n",
    "    act = 'relu'\n",
    "    sizes = [64, 128, 256, 256]\n",
    "    sz = sizes[0]\n",
    "    \n",
    "    model = Sequential()\n",
    "    model.add(Conv2D(sz, kernel_size=(3, 3),activation=act,padding='same',input_shape=inshape))\n",
    "    \n"
   ]
  },
  {
   "cell_type": "code",
   "execution_count": 15,
   "id": "3cf3e76b",
   "metadata": {},
   "outputs": [
    {
     "data": {
      "text/plain": [
       "(512, 512)"
      ]
     },
     "execution_count": 15,
     "metadata": {},
     "output_type": "execute_result"
    }
   ],
   "source": [
    "np.shape(X[0])"
   ]
  },
  {
   "cell_type": "code",
   "execution_count": null,
   "id": "63ce95ff",
   "metadata": {},
   "outputs": [],
   "source": [
    "y[0]"
   ]
  },
  {
   "cell_type": "code",
   "execution_count": null,
   "id": "cb783cfc",
   "metadata": {},
   "outputs": [],
   "source": []
  }
 ],
 "metadata": {
  "kernelspec": {
   "display_name": "Python 3 (ipykernel)",
   "language": "python",
   "name": "python3"
  },
  "language_info": {
   "codemirror_mode": {
    "name": "ipython",
    "version": 3
   },
   "file_extension": ".py",
   "mimetype": "text/x-python",
   "name": "python",
   "nbconvert_exporter": "python",
   "pygments_lexer": "ipython3",
   "version": "3.9.8"
  }
 },
 "nbformat": 4,
 "nbformat_minor": 5
}
